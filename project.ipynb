{
  "cells": [
    {
      "cell_type": "code",
      "execution_count": 1,
      "id": "ff909f94",
      "metadata": {
        "id": "ff909f94"
      },
      "outputs": [],
      "source": [
        "\n",
        "# Установка библиотек (для Colab)\n",
        "!pip install catboost pymorphy3 openpyxl --quiet\n"
      ]
    },
    {
      "cell_type": "code",
      "execution_count": 2,
      "id": "49c6c0c0",
      "metadata": {
        "id": "49c6c0c0"
      },
      "outputs": [],
      "source": [
        "\n",
        "import pandas as pd\n",
        "import numpy as np\n",
        "import matplotlib.pyplot as plt\n",
        "import seaborn as sns\n",
        "import re\n",
        "from pymorphy3 import MorphAnalyzer\n",
        "from sklearn.model_selection import train_test_split\n",
        "from sklearn.feature_extraction.text import TfidfVectorizer\n",
        "from sklearn.linear_model import LogisticRegression\n",
        "from sklearn.naive_bayes import MultinomialNB\n",
        "from sklearn.ensemble import RandomForestClassifier\n",
        "from catboost import CatBoostClassifier\n",
        "from sklearn.metrics import f1_score, recall_score, confusion_matrix, classification_report\n"
      ]
    },
    {
      "cell_type": "markdown",
      "id": "44904225",
      "metadata": {
        "id": "44904225"
      },
      "source": [
        "## 1. Загрузка данных и первичный анализ"
      ]
    },
    {
      "cell_type": "code",
      "execution_count": 3,
      "id": "fe5dd66a",
      "metadata": {
        "colab": {
          "base_uri": "https://localhost:8080/",
          "height": 397
        },
        "id": "fe5dd66a",
        "outputId": "e4ceca31-a321-4a96-ba15-29e750983459"
      },
      "outputs": [
        {
          "output_type": "display_data",
          "data": {
            "text/plain": [
              "                                                text  category  priority\n",
              "0  Клиент требует расторгнуть договор “по личным ...         1         2\n",
              "1  Коллекторы шантажируют, хотя я подал заявление...         3         3\n",
              "2  Срочно нужно расторгнуть договор с подрядчиком...         1         3\n",
              "3  Оказал услугу, клиент требует возврат, хотя вс...         1         2\n",
              "4  Все долги перед МФО. Есть ли шанс на списание,...         3         3"
            ],
            "text/html": [
              "\n",
              "  <div id=\"df-da5278b6-0c6f-4e4c-8f0e-327cb4b709f9\" class=\"colab-df-container\">\n",
              "    <div>\n",
              "<style scoped>\n",
              "    .dataframe tbody tr th:only-of-type {\n",
              "        vertical-align: middle;\n",
              "    }\n",
              "\n",
              "    .dataframe tbody tr th {\n",
              "        vertical-align: top;\n",
              "    }\n",
              "\n",
              "    .dataframe thead th {\n",
              "        text-align: right;\n",
              "    }\n",
              "</style>\n",
              "<table border=\"1\" class=\"dataframe\">\n",
              "  <thead>\n",
              "    <tr style=\"text-align: right;\">\n",
              "      <th></th>\n",
              "      <th>text</th>\n",
              "      <th>category</th>\n",
              "      <th>priority</th>\n",
              "    </tr>\n",
              "  </thead>\n",
              "  <tbody>\n",
              "    <tr>\n",
              "      <th>0</th>\n",
              "      <td>Клиент требует расторгнуть договор “по личным ...</td>\n",
              "      <td>1</td>\n",
              "      <td>2</td>\n",
              "    </tr>\n",
              "    <tr>\n",
              "      <th>1</th>\n",
              "      <td>Коллекторы шантажируют, хотя я подал заявление...</td>\n",
              "      <td>3</td>\n",
              "      <td>3</td>\n",
              "    </tr>\n",
              "    <tr>\n",
              "      <th>2</th>\n",
              "      <td>Срочно нужно расторгнуть договор с подрядчиком...</td>\n",
              "      <td>1</td>\n",
              "      <td>3</td>\n",
              "    </tr>\n",
              "    <tr>\n",
              "      <th>3</th>\n",
              "      <td>Оказал услугу, клиент требует возврат, хотя вс...</td>\n",
              "      <td>1</td>\n",
              "      <td>2</td>\n",
              "    </tr>\n",
              "    <tr>\n",
              "      <th>4</th>\n",
              "      <td>Все долги перед МФО. Есть ли шанс на списание,...</td>\n",
              "      <td>3</td>\n",
              "      <td>3</td>\n",
              "    </tr>\n",
              "  </tbody>\n",
              "</table>\n",
              "</div>\n",
              "    <div class=\"colab-df-buttons\">\n",
              "\n",
              "  <div class=\"colab-df-container\">\n",
              "    <button class=\"colab-df-convert\" onclick=\"convertToInteractive('df-da5278b6-0c6f-4e4c-8f0e-327cb4b709f9')\"\n",
              "            title=\"Convert this dataframe to an interactive table.\"\n",
              "            style=\"display:none;\">\n",
              "\n",
              "  <svg xmlns=\"http://www.w3.org/2000/svg\" height=\"24px\" viewBox=\"0 -960 960 960\">\n",
              "    <path d=\"M120-120v-720h720v720H120Zm60-500h600v-160H180v160Zm220 220h160v-160H400v160Zm0 220h160v-160H400v160ZM180-400h160v-160H180v160Zm440 0h160v-160H620v160ZM180-180h160v-160H180v160Zm440 0h160v-160H620v160Z\"/>\n",
              "  </svg>\n",
              "    </button>\n",
              "\n",
              "  <style>\n",
              "    .colab-df-container {\n",
              "      display:flex;\n",
              "      gap: 12px;\n",
              "    }\n",
              "\n",
              "    .colab-df-convert {\n",
              "      background-color: #E8F0FE;\n",
              "      border: none;\n",
              "      border-radius: 50%;\n",
              "      cursor: pointer;\n",
              "      display: none;\n",
              "      fill: #1967D2;\n",
              "      height: 32px;\n",
              "      padding: 0 0 0 0;\n",
              "      width: 32px;\n",
              "    }\n",
              "\n",
              "    .colab-df-convert:hover {\n",
              "      background-color: #E2EBFA;\n",
              "      box-shadow: 0px 1px 2px rgba(60, 64, 67, 0.3), 0px 1px 3px 1px rgba(60, 64, 67, 0.15);\n",
              "      fill: #174EA6;\n",
              "    }\n",
              "\n",
              "    .colab-df-buttons div {\n",
              "      margin-bottom: 4px;\n",
              "    }\n",
              "\n",
              "    [theme=dark] .colab-df-convert {\n",
              "      background-color: #3B4455;\n",
              "      fill: #D2E3FC;\n",
              "    }\n",
              "\n",
              "    [theme=dark] .colab-df-convert:hover {\n",
              "      background-color: #434B5C;\n",
              "      box-shadow: 0px 1px 3px 1px rgba(0, 0, 0, 0.15);\n",
              "      filter: drop-shadow(0px 1px 2px rgba(0, 0, 0, 0.3));\n",
              "      fill: #FFFFFF;\n",
              "    }\n",
              "  </style>\n",
              "\n",
              "    <script>\n",
              "      const buttonEl =\n",
              "        document.querySelector('#df-da5278b6-0c6f-4e4c-8f0e-327cb4b709f9 button.colab-df-convert');\n",
              "      buttonEl.style.display =\n",
              "        google.colab.kernel.accessAllowed ? 'block' : 'none';\n",
              "\n",
              "      async function convertToInteractive(key) {\n",
              "        const element = document.querySelector('#df-da5278b6-0c6f-4e4c-8f0e-327cb4b709f9');\n",
              "        const dataTable =\n",
              "          await google.colab.kernel.invokeFunction('convertToInteractive',\n",
              "                                                    [key], {});\n",
              "        if (!dataTable) return;\n",
              "\n",
              "        const docLinkHtml = 'Like what you see? Visit the ' +\n",
              "          '<a target=\"_blank\" href=https://colab.research.google.com/notebooks/data_table.ipynb>data table notebook</a>'\n",
              "          + ' to learn more about interactive tables.';\n",
              "        element.innerHTML = '';\n",
              "        dataTable['output_type'] = 'display_data';\n",
              "        await google.colab.output.renderOutput(dataTable, element);\n",
              "        const docLink = document.createElement('div');\n",
              "        docLink.innerHTML = docLinkHtml;\n",
              "        element.appendChild(docLink);\n",
              "      }\n",
              "    </script>\n",
              "  </div>\n",
              "\n",
              "\n",
              "    <div id=\"df-b83b03d6-c36d-4985-805d-58ce5f50cdc0\">\n",
              "      <button class=\"colab-df-quickchart\" onclick=\"quickchart('df-b83b03d6-c36d-4985-805d-58ce5f50cdc0')\"\n",
              "                title=\"Suggest charts\"\n",
              "                style=\"display:none;\">\n",
              "\n",
              "<svg xmlns=\"http://www.w3.org/2000/svg\" height=\"24px\"viewBox=\"0 0 24 24\"\n",
              "     width=\"24px\">\n",
              "    <g>\n",
              "        <path d=\"M19 3H5c-1.1 0-2 .9-2 2v14c0 1.1.9 2 2 2h14c1.1 0 2-.9 2-2V5c0-1.1-.9-2-2-2zM9 17H7v-7h2v7zm4 0h-2V7h2v10zm4 0h-2v-4h2v4z\"/>\n",
              "    </g>\n",
              "</svg>\n",
              "      </button>\n",
              "\n",
              "<style>\n",
              "  .colab-df-quickchart {\n",
              "      --bg-color: #E8F0FE;\n",
              "      --fill-color: #1967D2;\n",
              "      --hover-bg-color: #E2EBFA;\n",
              "      --hover-fill-color: #174EA6;\n",
              "      --disabled-fill-color: #AAA;\n",
              "      --disabled-bg-color: #DDD;\n",
              "  }\n",
              "\n",
              "  [theme=dark] .colab-df-quickchart {\n",
              "      --bg-color: #3B4455;\n",
              "      --fill-color: #D2E3FC;\n",
              "      --hover-bg-color: #434B5C;\n",
              "      --hover-fill-color: #FFFFFF;\n",
              "      --disabled-bg-color: #3B4455;\n",
              "      --disabled-fill-color: #666;\n",
              "  }\n",
              "\n",
              "  .colab-df-quickchart {\n",
              "    background-color: var(--bg-color);\n",
              "    border: none;\n",
              "    border-radius: 50%;\n",
              "    cursor: pointer;\n",
              "    display: none;\n",
              "    fill: var(--fill-color);\n",
              "    height: 32px;\n",
              "    padding: 0;\n",
              "    width: 32px;\n",
              "  }\n",
              "\n",
              "  .colab-df-quickchart:hover {\n",
              "    background-color: var(--hover-bg-color);\n",
              "    box-shadow: 0 1px 2px rgba(60, 64, 67, 0.3), 0 1px 3px 1px rgba(60, 64, 67, 0.15);\n",
              "    fill: var(--button-hover-fill-color);\n",
              "  }\n",
              "\n",
              "  .colab-df-quickchart-complete:disabled,\n",
              "  .colab-df-quickchart-complete:disabled:hover {\n",
              "    background-color: var(--disabled-bg-color);\n",
              "    fill: var(--disabled-fill-color);\n",
              "    box-shadow: none;\n",
              "  }\n",
              "\n",
              "  .colab-df-spinner {\n",
              "    border: 2px solid var(--fill-color);\n",
              "    border-color: transparent;\n",
              "    border-bottom-color: var(--fill-color);\n",
              "    animation:\n",
              "      spin 1s steps(1) infinite;\n",
              "  }\n",
              "\n",
              "  @keyframes spin {\n",
              "    0% {\n",
              "      border-color: transparent;\n",
              "      border-bottom-color: var(--fill-color);\n",
              "      border-left-color: var(--fill-color);\n",
              "    }\n",
              "    20% {\n",
              "      border-color: transparent;\n",
              "      border-left-color: var(--fill-color);\n",
              "      border-top-color: var(--fill-color);\n",
              "    }\n",
              "    30% {\n",
              "      border-color: transparent;\n",
              "      border-left-color: var(--fill-color);\n",
              "      border-top-color: var(--fill-color);\n",
              "      border-right-color: var(--fill-color);\n",
              "    }\n",
              "    40% {\n",
              "      border-color: transparent;\n",
              "      border-right-color: var(--fill-color);\n",
              "      border-top-color: var(--fill-color);\n",
              "    }\n",
              "    60% {\n",
              "      border-color: transparent;\n",
              "      border-right-color: var(--fill-color);\n",
              "    }\n",
              "    80% {\n",
              "      border-color: transparent;\n",
              "      border-right-color: var(--fill-color);\n",
              "      border-bottom-color: var(--fill-color);\n",
              "    }\n",
              "    90% {\n",
              "      border-color: transparent;\n",
              "      border-bottom-color: var(--fill-color);\n",
              "    }\n",
              "  }\n",
              "</style>\n",
              "\n",
              "      <script>\n",
              "        async function quickchart(key) {\n",
              "          const quickchartButtonEl =\n",
              "            document.querySelector('#' + key + ' button');\n",
              "          quickchartButtonEl.disabled = true;  // To prevent multiple clicks.\n",
              "          quickchartButtonEl.classList.add('colab-df-spinner');\n",
              "          try {\n",
              "            const charts = await google.colab.kernel.invokeFunction(\n",
              "                'suggestCharts', [key], {});\n",
              "          } catch (error) {\n",
              "            console.error('Error during call to suggestCharts:', error);\n",
              "          }\n",
              "          quickchartButtonEl.classList.remove('colab-df-spinner');\n",
              "          quickchartButtonEl.classList.add('colab-df-quickchart-complete');\n",
              "        }\n",
              "        (() => {\n",
              "          let quickchartButtonEl =\n",
              "            document.querySelector('#df-b83b03d6-c36d-4985-805d-58ce5f50cdc0 button');\n",
              "          quickchartButtonEl.style.display =\n",
              "            google.colab.kernel.accessAllowed ? 'block' : 'none';\n",
              "        })();\n",
              "      </script>\n",
              "    </div>\n",
              "    </div>\n",
              "  </div>\n"
            ],
            "application/vnd.google.colaboratory.intrinsic+json": {
              "type": "dataframe",
              "summary": "{\n  \"name\": \"print(df\",\n  \"rows\": 5,\n  \"fields\": [\n    {\n      \"column\": \"text\",\n      \"properties\": {\n        \"dtype\": \"string\",\n        \"num_unique_values\": 5,\n        \"samples\": [\n          \"\\u041a\\u043e\\u043b\\u043b\\u0435\\u043a\\u0442\\u043e\\u0440\\u044b \\u0448\\u0430\\u043d\\u0442\\u0430\\u0436\\u0438\\u0440\\u0443\\u044e\\u0442, \\u0445\\u043e\\u0442\\u044f \\u044f \\u043f\\u043e\\u0434\\u0430\\u043b \\u0437\\u0430\\u044f\\u0432\\u043b\\u0435\\u043d\\u0438\\u0435 \\u043d\\u0430 \\u0431\\u0430\\u043d\\u043a\\u0440\\u043e\\u0442\\u0441\\u0442\\u0432\\u043e. \\u042d\\u0442\\u043e \\u043d\\u0430\\u0440\\u0443\\u0448\\u0435\\u043d\\u0438\\u0435?\",\n          \"\\u0412\\u0441\\u0435 \\u0434\\u043e\\u043b\\u0433\\u0438 \\u043f\\u0435\\u0440\\u0435\\u0434 \\u041c\\u0424\\u041e. \\u0415\\u0441\\u0442\\u044c \\u043b\\u0438 \\u0448\\u0430\\u043d\\u0441 \\u043d\\u0430 \\u0441\\u043f\\u0438\\u0441\\u0430\\u043d\\u0438\\u0435, \\u0438\\u043b\\u0438 \\u043b\\u0443\\u0447\\u0448\\u0435 \\u0440\\u0435\\u0441\\u0442\\u0440\\u0443\\u043a\\u0442\\u0443\\u0440\\u0438\\u0437\\u0430\\u0446\\u0438\\u044f?\",\n          \"\\u0421\\u0440\\u043e\\u0447\\u043d\\u043e \\u043d\\u0443\\u0436\\u043d\\u043e \\u0440\\u0430\\u0441\\u0442\\u043e\\u0440\\u0433\\u043d\\u0443\\u0442\\u044c \\u0434\\u043e\\u0433\\u043e\\u0432\\u043e\\u0440 \\u0441 \\u043f\\u043e\\u0434\\u0440\\u044f\\u0434\\u0447\\u0438\\u043a\\u043e\\u043c, \\u043a\\u043e\\u0442\\u043e\\u0440\\u044b\\u0439 \\u0441\\u0440\\u044b\\u0432\\u0430\\u0435\\u0442 \\u0432\\u0441\\u0451. \\u041a\\u0430\\u043a\\u0438\\u0435 \\u043e\\u0441\\u043d\\u043e\\u0432\\u0430\\u043d\\u0438\\u044f \\u0441\\u0430\\u043c\\u044b\\u0435 \\u0441\\u0438\\u043b\\u044c\\u043d\\u044b\\u0435?\"\n        ],\n        \"semantic_type\": \"\",\n        \"description\": \"\"\n      }\n    },\n    {\n      \"column\": \"category\",\n      \"properties\": {\n        \"dtype\": \"number\",\n        \"std\": 1,\n        \"min\": 1,\n        \"max\": 3,\n        \"num_unique_values\": 2,\n        \"samples\": [\n          3,\n          1\n        ],\n        \"semantic_type\": \"\",\n        \"description\": \"\"\n      }\n    },\n    {\n      \"column\": \"priority\",\n      \"properties\": {\n        \"dtype\": \"number\",\n        \"std\": 0,\n        \"min\": 2,\n        \"max\": 3,\n        \"num_unique_values\": 2,\n        \"samples\": [\n          3,\n          2\n        ],\n        \"semantic_type\": \"\",\n        \"description\": \"\"\n      }\n    }\n  ]\n}"
            }
          },
          "metadata": {}
        },
        {
          "output_type": "stream",
          "name": "stdout",
          "text": [
            "<class 'pandas.core.frame.DataFrame'>\n",
            "RangeIndex: 608 entries, 0 to 607\n",
            "Data columns (total 3 columns):\n",
            " #   Column    Non-Null Count  Dtype \n",
            "---  ------    --------------  ----- \n",
            " 0   text      608 non-null    object\n",
            " 1   category  608 non-null    int64 \n",
            " 2   priority  608 non-null    int64 \n",
            "dtypes: int64(2), object(1)\n",
            "memory usage: 14.4+ KB\n",
            "None\n"
          ]
        }
      ],
      "source": [
        "\n",
        "df = pd.read_excel('data.xlsx')\n",
        "display(df.head())\n",
        "print(df.info())\n"
      ]
    },
    {
      "cell_type": "markdown",
      "id": "eb45f602",
      "metadata": {
        "id": "eb45f602"
      },
      "source": [
        "## 2. Исследовательский анализ данных"
      ]
    },
    {
      "cell_type": "code",
      "execution_count": 4,
      "id": "80a69fea",
      "metadata": {
        "colab": {
          "base_uri": "https://localhost:8080/"
        },
        "id": "80a69fea",
        "outputId": "55813916-fffc-446e-d7cc-7705153a897f"
      },
      "outputs": [
        {
          "output_type": "stream",
          "name": "stdout",
          "text": [
            "Количество обращений: 608\n",
            "Уникальные категории: [1 3 2]\n",
            "Распределение по категориям:\n",
            "category\n",
            "1    215\n",
            "2    211\n",
            "3    182\n",
            "Name: count, dtype: int64\n",
            "\n",
            "Распределение по приоритету:\n",
            "priority\n",
            "2    301\n",
            "3    229\n",
            "1     78\n",
            "Name: count, dtype: int64\n"
          ]
        }
      ],
      "source": [
        "\n",
        "print('Количество обращений:', len(df))\n",
        "print('Уникальные категории:', df['category'].unique())\n",
        "print('Распределение по категориям:')\n",
        "print(df['category'].value_counts())\n",
        "print('\\nРаспределение по приоритету:')\n",
        "print(df['priority'].value_counts())\n"
      ]
    },
    {
      "cell_type": "markdown",
      "id": "2b9498a6",
      "metadata": {
        "id": "2b9498a6"
      },
      "source": [
        "## 3. Предобработка текста"
      ]
    },
    {
      "cell_type": "code",
      "execution_count": 5,
      "id": "5aa5e16b",
      "metadata": {
        "colab": {
          "base_uri": "https://localhost:8080/",
          "height": 206
        },
        "id": "5aa5e16b",
        "outputId": "5a9def4e-0606-4487-c9b2-d5f71ecb83d8"
      },
      "outputs": [
        {
          "output_type": "execute_result",
          "data": {
            "text/plain": [
              "                                                text  \\\n",
              "0  Клиент требует расторгнуть договор “по личным ...   \n",
              "1  Коллекторы шантажируют, хотя я подал заявление...   \n",
              "2  Срочно нужно расторгнуть договор с подрядчиком...   \n",
              "3  Оказал услугу, клиент требует возврат, хотя вс...   \n",
              "4  Все долги перед МФО. Есть ли шанс на списание,...   \n",
              "\n",
              "                                      text_processed  \n",
              "0  клиент требовать расторгнуть договор личный пр...  \n",
              "1  коллектор шантажировать хотя подать заявление ...  \n",
              "2  срочно нужно расторгнуть договор подрядчик кот...  \n",
              "3  оказать услуга клиент требовать возврат хотя в...  \n",
              "4  всё долг перед мфо шанс списание хороший рестр...  "
            ],
            "text/html": [
              "\n",
              "  <div id=\"df-728b9041-83d5-4f6e-90af-447d4e741cf2\" class=\"colab-df-container\">\n",
              "    <div>\n",
              "<style scoped>\n",
              "    .dataframe tbody tr th:only-of-type {\n",
              "        vertical-align: middle;\n",
              "    }\n",
              "\n",
              "    .dataframe tbody tr th {\n",
              "        vertical-align: top;\n",
              "    }\n",
              "\n",
              "    .dataframe thead th {\n",
              "        text-align: right;\n",
              "    }\n",
              "</style>\n",
              "<table border=\"1\" class=\"dataframe\">\n",
              "  <thead>\n",
              "    <tr style=\"text-align: right;\">\n",
              "      <th></th>\n",
              "      <th>text</th>\n",
              "      <th>text_processed</th>\n",
              "    </tr>\n",
              "  </thead>\n",
              "  <tbody>\n",
              "    <tr>\n",
              "      <th>0</th>\n",
              "      <td>Клиент требует расторгнуть договор “по личным ...</td>\n",
              "      <td>клиент требовать расторгнуть договор личный пр...</td>\n",
              "    </tr>\n",
              "    <tr>\n",
              "      <th>1</th>\n",
              "      <td>Коллекторы шантажируют, хотя я подал заявление...</td>\n",
              "      <td>коллектор шантажировать хотя подать заявление ...</td>\n",
              "    </tr>\n",
              "    <tr>\n",
              "      <th>2</th>\n",
              "      <td>Срочно нужно расторгнуть договор с подрядчиком...</td>\n",
              "      <td>срочно нужно расторгнуть договор подрядчик кот...</td>\n",
              "    </tr>\n",
              "    <tr>\n",
              "      <th>3</th>\n",
              "      <td>Оказал услугу, клиент требует возврат, хотя вс...</td>\n",
              "      <td>оказать услуга клиент требовать возврат хотя в...</td>\n",
              "    </tr>\n",
              "    <tr>\n",
              "      <th>4</th>\n",
              "      <td>Все долги перед МФО. Есть ли шанс на списание,...</td>\n",
              "      <td>всё долг перед мфо шанс списание хороший рестр...</td>\n",
              "    </tr>\n",
              "  </tbody>\n",
              "</table>\n",
              "</div>\n",
              "    <div class=\"colab-df-buttons\">\n",
              "\n",
              "  <div class=\"colab-df-container\">\n",
              "    <button class=\"colab-df-convert\" onclick=\"convertToInteractive('df-728b9041-83d5-4f6e-90af-447d4e741cf2')\"\n",
              "            title=\"Convert this dataframe to an interactive table.\"\n",
              "            style=\"display:none;\">\n",
              "\n",
              "  <svg xmlns=\"http://www.w3.org/2000/svg\" height=\"24px\" viewBox=\"0 -960 960 960\">\n",
              "    <path d=\"M120-120v-720h720v720H120Zm60-500h600v-160H180v160Zm220 220h160v-160H400v160Zm0 220h160v-160H400v160ZM180-400h160v-160H180v160Zm440 0h160v-160H620v160ZM180-180h160v-160H180v160Zm440 0h160v-160H620v160Z\"/>\n",
              "  </svg>\n",
              "    </button>\n",
              "\n",
              "  <style>\n",
              "    .colab-df-container {\n",
              "      display:flex;\n",
              "      gap: 12px;\n",
              "    }\n",
              "\n",
              "    .colab-df-convert {\n",
              "      background-color: #E8F0FE;\n",
              "      border: none;\n",
              "      border-radius: 50%;\n",
              "      cursor: pointer;\n",
              "      display: none;\n",
              "      fill: #1967D2;\n",
              "      height: 32px;\n",
              "      padding: 0 0 0 0;\n",
              "      width: 32px;\n",
              "    }\n",
              "\n",
              "    .colab-df-convert:hover {\n",
              "      background-color: #E2EBFA;\n",
              "      box-shadow: 0px 1px 2px rgba(60, 64, 67, 0.3), 0px 1px 3px 1px rgba(60, 64, 67, 0.15);\n",
              "      fill: #174EA6;\n",
              "    }\n",
              "\n",
              "    .colab-df-buttons div {\n",
              "      margin-bottom: 4px;\n",
              "    }\n",
              "\n",
              "    [theme=dark] .colab-df-convert {\n",
              "      background-color: #3B4455;\n",
              "      fill: #D2E3FC;\n",
              "    }\n",
              "\n",
              "    [theme=dark] .colab-df-convert:hover {\n",
              "      background-color: #434B5C;\n",
              "      box-shadow: 0px 1px 3px 1px rgba(0, 0, 0, 0.15);\n",
              "      filter: drop-shadow(0px 1px 2px rgba(0, 0, 0, 0.3));\n",
              "      fill: #FFFFFF;\n",
              "    }\n",
              "  </style>\n",
              "\n",
              "    <script>\n",
              "      const buttonEl =\n",
              "        document.querySelector('#df-728b9041-83d5-4f6e-90af-447d4e741cf2 button.colab-df-convert');\n",
              "      buttonEl.style.display =\n",
              "        google.colab.kernel.accessAllowed ? 'block' : 'none';\n",
              "\n",
              "      async function convertToInteractive(key) {\n",
              "        const element = document.querySelector('#df-728b9041-83d5-4f6e-90af-447d4e741cf2');\n",
              "        const dataTable =\n",
              "          await google.colab.kernel.invokeFunction('convertToInteractive',\n",
              "                                                    [key], {});\n",
              "        if (!dataTable) return;\n",
              "\n",
              "        const docLinkHtml = 'Like what you see? Visit the ' +\n",
              "          '<a target=\"_blank\" href=https://colab.research.google.com/notebooks/data_table.ipynb>data table notebook</a>'\n",
              "          + ' to learn more about interactive tables.';\n",
              "        element.innerHTML = '';\n",
              "        dataTable['output_type'] = 'display_data';\n",
              "        await google.colab.output.renderOutput(dataTable, element);\n",
              "        const docLink = document.createElement('div');\n",
              "        docLink.innerHTML = docLinkHtml;\n",
              "        element.appendChild(docLink);\n",
              "      }\n",
              "    </script>\n",
              "  </div>\n",
              "\n",
              "\n",
              "    <div id=\"df-c38c7dcf-6309-4674-9201-6520ef45ba2b\">\n",
              "      <button class=\"colab-df-quickchart\" onclick=\"quickchart('df-c38c7dcf-6309-4674-9201-6520ef45ba2b')\"\n",
              "                title=\"Suggest charts\"\n",
              "                style=\"display:none;\">\n",
              "\n",
              "<svg xmlns=\"http://www.w3.org/2000/svg\" height=\"24px\"viewBox=\"0 0 24 24\"\n",
              "     width=\"24px\">\n",
              "    <g>\n",
              "        <path d=\"M19 3H5c-1.1 0-2 .9-2 2v14c0 1.1.9 2 2 2h14c1.1 0 2-.9 2-2V5c0-1.1-.9-2-2-2zM9 17H7v-7h2v7zm4 0h-2V7h2v10zm4 0h-2v-4h2v4z\"/>\n",
              "    </g>\n",
              "</svg>\n",
              "      </button>\n",
              "\n",
              "<style>\n",
              "  .colab-df-quickchart {\n",
              "      --bg-color: #E8F0FE;\n",
              "      --fill-color: #1967D2;\n",
              "      --hover-bg-color: #E2EBFA;\n",
              "      --hover-fill-color: #174EA6;\n",
              "      --disabled-fill-color: #AAA;\n",
              "      --disabled-bg-color: #DDD;\n",
              "  }\n",
              "\n",
              "  [theme=dark] .colab-df-quickchart {\n",
              "      --bg-color: #3B4455;\n",
              "      --fill-color: #D2E3FC;\n",
              "      --hover-bg-color: #434B5C;\n",
              "      --hover-fill-color: #FFFFFF;\n",
              "      --disabled-bg-color: #3B4455;\n",
              "      --disabled-fill-color: #666;\n",
              "  }\n",
              "\n",
              "  .colab-df-quickchart {\n",
              "    background-color: var(--bg-color);\n",
              "    border: none;\n",
              "    border-radius: 50%;\n",
              "    cursor: pointer;\n",
              "    display: none;\n",
              "    fill: var(--fill-color);\n",
              "    height: 32px;\n",
              "    padding: 0;\n",
              "    width: 32px;\n",
              "  }\n",
              "\n",
              "  .colab-df-quickchart:hover {\n",
              "    background-color: var(--hover-bg-color);\n",
              "    box-shadow: 0 1px 2px rgba(60, 64, 67, 0.3), 0 1px 3px 1px rgba(60, 64, 67, 0.15);\n",
              "    fill: var(--button-hover-fill-color);\n",
              "  }\n",
              "\n",
              "  .colab-df-quickchart-complete:disabled,\n",
              "  .colab-df-quickchart-complete:disabled:hover {\n",
              "    background-color: var(--disabled-bg-color);\n",
              "    fill: var(--disabled-fill-color);\n",
              "    box-shadow: none;\n",
              "  }\n",
              "\n",
              "  .colab-df-spinner {\n",
              "    border: 2px solid var(--fill-color);\n",
              "    border-color: transparent;\n",
              "    border-bottom-color: var(--fill-color);\n",
              "    animation:\n",
              "      spin 1s steps(1) infinite;\n",
              "  }\n",
              "\n",
              "  @keyframes spin {\n",
              "    0% {\n",
              "      border-color: transparent;\n",
              "      border-bottom-color: var(--fill-color);\n",
              "      border-left-color: var(--fill-color);\n",
              "    }\n",
              "    20% {\n",
              "      border-color: transparent;\n",
              "      border-left-color: var(--fill-color);\n",
              "      border-top-color: var(--fill-color);\n",
              "    }\n",
              "    30% {\n",
              "      border-color: transparent;\n",
              "      border-left-color: var(--fill-color);\n",
              "      border-top-color: var(--fill-color);\n",
              "      border-right-color: var(--fill-color);\n",
              "    }\n",
              "    40% {\n",
              "      border-color: transparent;\n",
              "      border-right-color: var(--fill-color);\n",
              "      border-top-color: var(--fill-color);\n",
              "    }\n",
              "    60% {\n",
              "      border-color: transparent;\n",
              "      border-right-color: var(--fill-color);\n",
              "    }\n",
              "    80% {\n",
              "      border-color: transparent;\n",
              "      border-right-color: var(--fill-color);\n",
              "      border-bottom-color: var(--fill-color);\n",
              "    }\n",
              "    90% {\n",
              "      border-color: transparent;\n",
              "      border-bottom-color: var(--fill-color);\n",
              "    }\n",
              "  }\n",
              "</style>\n",
              "\n",
              "      <script>\n",
              "        async function quickchart(key) {\n",
              "          const quickchartButtonEl =\n",
              "            document.querySelector('#' + key + ' button');\n",
              "          quickchartButtonEl.disabled = true;  // To prevent multiple clicks.\n",
              "          quickchartButtonEl.classList.add('colab-df-spinner');\n",
              "          try {\n",
              "            const charts = await google.colab.kernel.invokeFunction(\n",
              "                'suggestCharts', [key], {});\n",
              "          } catch (error) {\n",
              "            console.error('Error during call to suggestCharts:', error);\n",
              "          }\n",
              "          quickchartButtonEl.classList.remove('colab-df-spinner');\n",
              "          quickchartButtonEl.classList.add('colab-df-quickchart-complete');\n",
              "        }\n",
              "        (() => {\n",
              "          let quickchartButtonEl =\n",
              "            document.querySelector('#df-c38c7dcf-6309-4674-9201-6520ef45ba2b button');\n",
              "          quickchartButtonEl.style.display =\n",
              "            google.colab.kernel.accessAllowed ? 'block' : 'none';\n",
              "        })();\n",
              "      </script>\n",
              "    </div>\n",
              "    </div>\n",
              "  </div>\n"
            ],
            "application/vnd.google.colaboratory.intrinsic+json": {
              "type": "dataframe",
              "summary": "{\n  \"name\": \"df[['text', 'text_processed']]\",\n  \"rows\": 5,\n  \"fields\": [\n    {\n      \"column\": \"text\",\n      \"properties\": {\n        \"dtype\": \"string\",\n        \"num_unique_values\": 5,\n        \"samples\": [\n          \"\\u041a\\u043e\\u043b\\u043b\\u0435\\u043a\\u0442\\u043e\\u0440\\u044b \\u0448\\u0430\\u043d\\u0442\\u0430\\u0436\\u0438\\u0440\\u0443\\u044e\\u0442, \\u0445\\u043e\\u0442\\u044f \\u044f \\u043f\\u043e\\u0434\\u0430\\u043b \\u0437\\u0430\\u044f\\u0432\\u043b\\u0435\\u043d\\u0438\\u0435 \\u043d\\u0430 \\u0431\\u0430\\u043d\\u043a\\u0440\\u043e\\u0442\\u0441\\u0442\\u0432\\u043e. \\u042d\\u0442\\u043e \\u043d\\u0430\\u0440\\u0443\\u0448\\u0435\\u043d\\u0438\\u0435?\",\n          \"\\u0412\\u0441\\u0435 \\u0434\\u043e\\u043b\\u0433\\u0438 \\u043f\\u0435\\u0440\\u0435\\u0434 \\u041c\\u0424\\u041e. \\u0415\\u0441\\u0442\\u044c \\u043b\\u0438 \\u0448\\u0430\\u043d\\u0441 \\u043d\\u0430 \\u0441\\u043f\\u0438\\u0441\\u0430\\u043d\\u0438\\u0435, \\u0438\\u043b\\u0438 \\u043b\\u0443\\u0447\\u0448\\u0435 \\u0440\\u0435\\u0441\\u0442\\u0440\\u0443\\u043a\\u0442\\u0443\\u0440\\u0438\\u0437\\u0430\\u0446\\u0438\\u044f?\",\n          \"\\u0421\\u0440\\u043e\\u0447\\u043d\\u043e \\u043d\\u0443\\u0436\\u043d\\u043e \\u0440\\u0430\\u0441\\u0442\\u043e\\u0440\\u0433\\u043d\\u0443\\u0442\\u044c \\u0434\\u043e\\u0433\\u043e\\u0432\\u043e\\u0440 \\u0441 \\u043f\\u043e\\u0434\\u0440\\u044f\\u0434\\u0447\\u0438\\u043a\\u043e\\u043c, \\u043a\\u043e\\u0442\\u043e\\u0440\\u044b\\u0439 \\u0441\\u0440\\u044b\\u0432\\u0430\\u0435\\u0442 \\u0432\\u0441\\u0451. \\u041a\\u0430\\u043a\\u0438\\u0435 \\u043e\\u0441\\u043d\\u043e\\u0432\\u0430\\u043d\\u0438\\u044f \\u0441\\u0430\\u043c\\u044b\\u0435 \\u0441\\u0438\\u043b\\u044c\\u043d\\u044b\\u0435?\"\n        ],\n        \"semantic_type\": \"\",\n        \"description\": \"\"\n      }\n    },\n    {\n      \"column\": \"text_processed\",\n      \"properties\": {\n        \"dtype\": \"string\",\n        \"num_unique_values\": 5,\n        \"samples\": [\n          \"\\u043a\\u043e\\u043b\\u043b\\u0435\\u043a\\u0442\\u043e\\u0440 \\u0448\\u0430\\u043d\\u0442\\u0430\\u0436\\u0438\\u0440\\u043e\\u0432\\u0430\\u0442\\u044c \\u0445\\u043e\\u0442\\u044f \\u043f\\u043e\\u0434\\u0430\\u0442\\u044c \\u0437\\u0430\\u044f\\u0432\\u043b\\u0435\\u043d\\u0438\\u0435 \\u0431\\u0430\\u043d\\u043a\\u0440\\u043e\\u0442\\u0441\\u0442\\u0432\\u043e \\u044d\\u0442\\u043e \\u043d\\u0430\\u0440\\u0443\\u0448\\u0435\\u043d\\u0438\\u0435\",\n          \"\\u0432\\u0441\\u0451 \\u0434\\u043e\\u043b\\u0433 \\u043f\\u0435\\u0440\\u0435\\u0434 \\u043c\\u0444\\u043e \\u0448\\u0430\\u043d\\u0441 \\u0441\\u043f\\u0438\\u0441\\u0430\\u043d\\u0438\\u0435 \\u0445\\u043e\\u0440\\u043e\\u0448\\u0438\\u0439 \\u0440\\u0435\\u0441\\u0442\\u0440\\u0443\\u043a\\u0442\\u0443\\u0440\\u0438\\u0437\\u0430\\u0446\\u0438\\u044f\",\n          \"\\u0441\\u0440\\u043e\\u0447\\u043d\\u043e \\u043d\\u0443\\u0436\\u043d\\u043e \\u0440\\u0430\\u0441\\u0442\\u043e\\u0440\\u0433\\u043d\\u0443\\u0442\\u044c \\u0434\\u043e\\u0433\\u043e\\u0432\\u043e\\u0440 \\u043f\\u043e\\u0434\\u0440\\u044f\\u0434\\u0447\\u0438\\u043a \\u043a\\u043e\\u0442\\u043e\\u0440\\u044b\\u0439 \\u0441\\u0440\\u044b\\u0432\\u0430\\u0442\\u044c \\u0432\\u0441\\u0451 \\u043e\\u0441\\u043d\\u043e\\u0432\\u0430\\u043d\\u0438\\u0435 \\u0441\\u0430\\u043c\\u044b\\u0439 \\u0441\\u0438\\u043b\\u044c\\u043d\\u044b\\u0439\"\n        ],\n        \"semantic_type\": \"\",\n        \"description\": \"\"\n      }\n    }\n  ]\n}"
            }
          },
          "metadata": {},
          "execution_count": 5
        }
      ],
      "source": [
        "\n",
        "russian_stopwords = set(\"\"\"\n",
        "и в во не что он на я с со как а то все она так его но да ты к у же вы за бы по только ее мне было вот от меня еще нет о из ему теперь когда даже ну вдруг ли если или ни быть был него до вас нибудь опять уж вам ведь там потом себя ничего ей может они тут где есть надо ней для мы тебя их чем была сам чтоб без будто чего раз тоже себе под будет ж тогда кто этот того потому этого какой совсем ним здесь этом один почти мой тем чтобы нее зачем вас они\n",
        "\"\"\".split())\n",
        "\n",
        "morph = MorphAnalyzer()\n",
        "def preprocess_text(text):\n",
        "    text = str(text).lower()\n",
        "    text = re.sub(r\"[^а-яa-zё ]\", \" \", text)\n",
        "    tokens = text.split()\n",
        "    lemmas = [morph.parse(token)[0].normal_form for token in tokens]\n",
        "    lemmas = [lemma for lemma in lemmas if lemma not in russian_stopwords and len(lemma) > 2]\n",
        "    return ' '.join(lemmas)\n",
        "\n",
        "df['text_processed'] = df['text'].apply(preprocess_text)\n",
        "df[['text', 'text_processed']].head()\n"
      ]
    },
    {
      "cell_type": "markdown",
      "id": "dd7521d0",
      "metadata": {
        "id": "dd7521d0"
      },
      "source": [
        "## 4. Векторизация текстов"
      ]
    },
    {
      "cell_type": "code",
      "execution_count": 6,
      "id": "38f51a03",
      "metadata": {
        "id": "38f51a03"
      },
      "outputs": [],
      "source": [
        "\n",
        "tfidf = TfidfVectorizer(max_features=5000)\n",
        "X_tfidf = tfidf.fit_transform(df['text_processed'])\n"
      ]
    },
    {
      "cell_type": "markdown",
      "id": "99a24482",
      "metadata": {
        "id": "99a24482"
      },
      "source": [
        "## 5. Классификация по категориям"
      ]
    },
    {
      "cell_type": "code",
      "execution_count": 7,
      "id": "0ef9d522",
      "metadata": {
        "colab": {
          "base_uri": "https://localhost:8080/"
        },
        "id": "0ef9d522",
        "outputId": "9c80e32c-c8ea-46a9-9f98-ce0ad32dbd89"
      },
      "outputs": [
        {
          "output_type": "stream",
          "name": "stdout",
          "text": [
            "Категория — F1_macro:\n",
            "Logistic Regression: 0.984\n",
            "Naive Bayes: 0.984\n",
            "Random Forest: 0.976\n",
            "CatBoost: 0.937\n",
            "Лучшая модель: Logistic Regression\n"
          ]
        }
      ],
      "source": [
        "\n",
        "X = X_tfidf\n",
        "y_category = df['category']\n",
        "X_train_c, X_test_c, y_train_c, y_test_c = train_test_split(X, y_category, test_size=0.2, random_state=42, stratify=y_category)\n",
        "\n",
        "models_cat = {\n",
        "    \"Logistic Regression\": LogisticRegression(max_iter=1000, random_state=42),\n",
        "    \"Naive Bayes\": MultinomialNB(),\n",
        "    \"Random Forest\": RandomForestClassifier(n_estimators=200, random_state=42),\n",
        "    \"CatBoost\": CatBoostClassifier(verbose=0, random_state=42)\n",
        "}\n",
        "\n",
        "results_cat = {}\n",
        "for name, model in models_cat.items():\n",
        "    model.fit(X_train_c, y_train_c)\n",
        "    y_pred = model.predict(X_test_c)\n",
        "    f1 = f1_score(y_test_c, y_pred, average='macro')\n",
        "    results_cat[name] = f1\n",
        "\n",
        "best_cat_name = max(results_cat, key=results_cat.get)\n",
        "best_cat_model = models_cat[best_cat_name]\n",
        "y_pred_best_cat = best_cat_model.predict(X_test_c)\n",
        "\n",
        "print(\"Категория — F1_macro:\")\n",
        "for name, score in results_cat.items():\n",
        "    print(f\"{name}: {score:.3f}\")\n",
        "print(f\"Лучшая модель: {best_cat_name}\")\n"
      ]
    },
    {
      "cell_type": "code",
      "execution_count": 8,
      "id": "124750b8",
      "metadata": {
        "colab": {
          "base_uri": "https://localhost:8080/",
          "height": 695
        },
        "id": "124750b8",
        "outputId": "2a2a19f2-d81c-4aa0-c4a3-61614b0aaf1b"
      },
      "outputs": [
        {
          "output_type": "display_data",
          "data": {
            "text/plain": [
              "<Figure size 600x500 with 2 Axes>"
            ],
            "image/png": "[encoded data removed]"
          },
          "metadata": {}
        },
        {
          "output_type": "stream",
          "name": "stdout",
          "text": [
            "\n",
            "Отчёт по классам:\n",
            "              precision    recall  f1-score   support\n",
            "\n",
            "           1      0.977     1.000     0.989        43\n",
            "           2      0.976     0.976     0.976        42\n",
            "           3      1.000     0.973     0.986        37\n",
            "\n",
            "    accuracy                          0.984       122\n",
            "   macro avg      0.984     0.983     0.984       122\n",
            "weighted avg      0.984     0.984     0.984       122\n",
            "\n"
          ]
        }
      ],
      "source": [
        "\n",
        "plt.figure(figsize=(6,5))\n",
        "cm = confusion_matrix(y_test_c, y_pred_best_cat)\n",
        "sns.heatmap(cm, annot=True, fmt='d', cmap='Blues')\n",
        "plt.xlabel('Предсказано')\n",
        "plt.ylabel('Факт')\n",
        "plt.title('Матрица ошибок — категория')\n",
        "plt.show()\n",
        "print(\"\\nОтчёт по классам:\")\n",
        "print(classification_report(y_test_c, y_pred_best_cat, digits=3))\n"
      ]
    },
    {
      "cell_type": "markdown",
      "id": "f161b978",
      "metadata": {
        "id": "f161b978"
      },
      "source": [
        "## 6. Классификация по приоритету — тест всех моделей"
      ]
    },
    {
      "cell_type": "code",
      "execution_count": 9,
      "id": "f9e434cc",
      "metadata": {
        "colab": {
          "base_uri": "https://localhost:8080/"
        },
        "id": "f9e434cc",
        "outputId": "bfe38ad3-e12f-45f0-b7b2-9044edf9e2d1"
      },
      "outputs": [
        {
          "output_type": "stream",
          "name": "stdout",
          "text": [
            "Приоритет — F1_macro:\n",
            "Logistic Regression: 0.399\n",
            "Naive Bayes: 0.431\n",
            "Random Forest: 0.421\n",
            "CatBoost: 0.472\n",
            "Приоритет — Recall по классу 3:\n",
            "Logistic Regression: 0.435\n",
            "Naive Bayes: 0.478\n",
            "Random Forest: 0.478\n",
            "CatBoost: 0.522\n",
            "Лучшая модель (F1_macro): CatBoost\n"
          ]
        }
      ],
      "source": [
        "\n",
        "y_priority = df['priority']\n",
        "X_train_p, X_test_p, y_train_p, y_test_p = train_test_split(X, y_priority, test_size=0.2, random_state=42, stratify=y_priority)\n",
        "\n",
        "models_pri = {\n",
        "    \"Logistic Regression\": LogisticRegression(max_iter=1000, random_state=42),\n",
        "    \"Naive Bayes\": MultinomialNB(),\n",
        "    \"Random Forest\": RandomForestClassifier(n_estimators=200, random_state=42),\n",
        "    \"CatBoost\": CatBoostClassifier(verbose=0, random_state=42)\n",
        "}\n",
        "\n",
        "results_pri = {}\n",
        "recall3_pri = {}\n",
        "for name, model in models_pri.items():\n",
        "    model.fit(X_train_p, y_train_p)\n",
        "    y_pred = model.predict(X_test_p)\n",
        "    f1 = f1_score(y_test_p, y_pred, average='macro')\n",
        "    recall_3 = recall_score(y_test_p, y_pred, labels=[3], average='macro', zero_division=0)\n",
        "    results_pri[name] = f1\n",
        "    recall3_pri[name] = recall_3\n",
        "\n",
        "best_pri_name = max(results_pri, key=results_pri.get)\n",
        "best_pri_model = models_pri[best_pri_name]\n",
        "y_pred_best_pri = best_pri_model.predict(X_test_p)\n",
        "\n",
        "print(\"Приоритет — F1_macro:\")\n",
        "for name, score in results_pri.items():\n",
        "    print(f\"{name}: {score:.3f}\")\n",
        "print(\"Приоритет — Recall по классу 3:\")\n",
        "for name, score in recall3_pri.items():\n",
        "    print(f\"{name}: {score:.3f}\")\n",
        "print(f\"Лучшая модель (F1_macro): {best_pri_name}\")\n"
      ]
    },
    {
      "cell_type": "code",
      "execution_count": 10,
      "id": "e25829ec",
      "metadata": {
        "colab": {
          "base_uri": "https://localhost:8080/",
          "height": 695
        },
        "id": "e25829ec",
        "outputId": "b8c66702-b17f-4790-8dfc-b30464a8b28f"
      },
      "outputs": [
        {
          "output_type": "display_data",
          "data": {
            "text/plain": [
              "<Figure size 600x500 with 2 Axes>"
            ],
            "image/png": "[encoded data removed]"
          },
          "metadata": {}
        },
        {
          "output_type": "stream",
          "name": "stdout",
          "text": [
            "\n",
            "Отчёт по классам:\n",
            "              precision    recall  f1-score   support\n",
            "\n",
            "           1      0.667     0.125     0.211        16\n",
            "           2      0.570     0.750     0.647        60\n",
            "           3      0.600     0.522     0.558        46\n",
            "\n",
            "    accuracy                          0.582       122\n",
            "   macro avg      0.612     0.466     0.472       122\n",
            "weighted avg      0.594     0.582     0.556       122\n",
            "\n"
          ]
        }
      ],
      "source": [
        "\n",
        "plt.figure(figsize=(6,5))\n",
        "cm = confusion_matrix(y_test_p, y_pred_best_pri)\n",
        "sns.heatmap(cm, annot=True, fmt='d', cmap='Oranges')\n",
        "plt.xlabel('Предсказано')\n",
        "plt.ylabel('Факт')\n",
        "plt.title('Матрица ошибок — приоритет')\n",
        "plt.show()\n",
        "print(\"\\nОтчёт по классам:\")\n",
        "print(classification_report(y_test_p, y_pred_best_pri, digits=3))\n"
      ]
    },
    {
      "cell_type": "markdown",
      "id": "04f8b406",
      "metadata": {
        "id": "04f8b406"
      },
      "source": [
        "## 7. Эксперименты по улучшению приоритизации (CatBoost)"
      ]
    },
    {
      "cell_type": "markdown",
      "id": "6cd9e5c9",
      "metadata": {
        "id": "6cd9e5c9"
      },
      "source": [
        "### Эксперимент 1: CatBoost + длина текста и has_urgent"
      ]
    },
    {
      "cell_type": "code",
      "execution_count": 11,
      "id": "fc922015",
      "metadata": {
        "colab": {
          "base_uri": "https://localhost:8080/"
        },
        "id": "fc922015",
        "outputId": "22e3e9dd-ac92-4544-9f8e-50283d6776ee"
      },
      "outputs": [
        {
          "output_type": "stream",
          "name": "stdout",
          "text": [
            "CatBoost + признаки: F1_macro = 0.504, Recall (класс 3) = 0.522\n"
          ]
        }
      ],
      "source": [
        "\n",
        "df['text_len'] = df['text_processed'].apply(lambda x: len(x.split()))\n",
        "urgent_words = ['срочно', 'угрожают', 'угроза', 'немедленно']\n",
        "df['has_urgent'] = df['text_processed'].apply(lambda x: int(any(word in x for word in urgent_words)))\n",
        "\n",
        "X_exp1 = pd.DataFrame(X_tfidf.toarray())\n",
        "X_exp1['text_len'] = df['text_len']\n",
        "X_exp1['has_urgent'] = df['has_urgent']\n",
        "X_train_e1, X_test_e1, y_train_e1, y_test_e1 = train_test_split(X_exp1, y_priority, test_size=0.2, random_state=42, stratify=y_priority)\n",
        "\n",
        "model_exp1 = CatBoostClassifier(verbose=0, random_state=42)\n",
        "model_exp1.fit(X_train_e1, y_train_e1)\n",
        "y_pred_e1 = model_exp1.predict(X_test_e1)\n",
        "f1_e1 = f1_score(y_test_e1, y_pred_e1, average='macro')\n",
        "recall_3_e1 = recall_score(y_test_e1, y_pred_e1, labels=[3], average='macro', zero_division=0)\n",
        "print(f\"CatBoost + признаки: F1_macro = {f1_e1:.3f}, Recall (класс 3) = {recall_3_e1:.3f}\")\n"
      ]
    },
    {
      "cell_type": "markdown",
      "id": "f4dfa00a",
      "metadata": {
        "id": "f4dfa00a"
      },
      "source": [
        "### Эксперимент 2: CatBoost + TF-IDF с биграммами"
      ]
    },
    {
      "cell_type": "code",
      "execution_count": 12,
      "id": "f4cf80bf",
      "metadata": {
        "colab": {
          "base_uri": "https://localhost:8080/"
        },
        "id": "f4cf80bf",
        "outputId": "3218beb6-4adc-4004-881a-7a91d9b8749e"
      },
      "outputs": [
        {
          "output_type": "stream",
          "name": "stdout",
          "text": [
            "CatBoost + биграммы: F1_macro = 0.465, Recall (класс 3) = 0.500\n"
          ]
        }
      ],
      "source": [
        "\n",
        "tfidf_bi = TfidfVectorizer(ngram_range=(1,2), max_features=5000)\n",
        "X_tfidf_bi = tfidf_bi.fit_transform(df['text_processed'])\n",
        "X_train_bi, X_test_bi, y_train_bi, y_test_bi = train_test_split(X_tfidf_bi, y_priority, test_size=0.2, random_state=42, stratify=y_priority)\n",
        "\n",
        "model_exp2 = CatBoostClassifier(verbose=0, random_state=42)\n",
        "model_exp2.fit(X_train_bi, y_train_bi)\n",
        "y_pred_bi = model_exp2.predict(X_test_bi)\n",
        "f1_bi = f1_score(y_test_bi, y_pred_bi, average='macro')\n",
        "recall_3_bi = recall_score(y_test_bi, y_pred_bi, labels=[3], average='macro', zero_division=0)\n",
        "print(f\"CatBoost + биграммы: F1_macro = {f1_bi:.3f}, Recall (класс 3) = {recall_3_bi:.3f}\")\n"
      ]
    },
    {
      "cell_type": "markdown",
      "id": "cc9d1dc2",
      "metadata": {
        "id": "cc9d1dc2"
      },
      "source": [
        "### Эксперимент 3: CatBoost (обычный TF-IDF) + смещение порога"
      ]
    },
    {
      "cell_type": "code",
      "execution_count": 14,
      "id": "e646d780",
      "metadata": {
        "colab": {
          "base_uri": "https://localhost:8080/"
        },
        "id": "e646d780",
        "outputId": "36bcf004-8bf9-4611-96d7-316dd080492d"
      },
      "outputs": [
        {
          "output_type": "stream",
          "name": "stdout",
          "text": [
            "CatBoost + смещение порога: F1_macro = 0.468, Recall (класс 3) = 0.696\n"
          ]
        }
      ],
      "source": [
        "\n",
        "probas = best_pri_model.predict_proba(X_test_p)\n",
        "y_pred_thr = np.array([3 if p[2] > 0.3 else np.argmax(p)+1 for p in probas])\n",
        "f1_thr = f1_score(y_test_p, y_pred_thr, average='macro')\n",
        "recall_3_thr = recall_score(y_test_p, y_pred_thr, labels=[3], average='macro', zero_division=0)\n",
        "print(f\"CatBoost + смещение порога: F1_macro = {f1_thr:.3f}, Recall (класс 3) = {recall_3_thr:.3f}\")\n"
      ]
    },
    {
      "cell_type": "markdown",
      "id": "490f9a3d",
      "metadata": {
        "id": "490f9a3d"
      },
      "source": [
        "## 8. Краткий вывод"
      ]
    },
    {
      "cell_type": "markdown",
      "id": "0e6952fe",
      "metadata": {
        "id": "0e6952fe"
      },
      "source": [
        "\n",
        "В ноутбуке реализованы: полный цикл предобработки, тест всех моделей для обеих задач, построение матриц ошибок, а также серия экспериментов по улучшению приоритизации. Все этапы снабжены вычислением ключевых метрик и комментариями для практической работы.\n"
      ]
    },
    {
      "cell_type": "code",
      "source": [
        "import pickle\n",
        "\n",
        "# Сохраняем TF-IDF векторизатор\n",
        "with open('tfidf_vectorizer.pkl', 'wb') as f:\n",
        "    pickle.dump(tfidf, f)\n",
        "\n",
        "# Сохраняем Logistic Regression (модель по категориям)\n",
        "with open('logreg_category.pkl', 'wb') as f:\n",
        "    pickle.dump(best_cat_model, f)\n",
        "\n",
        "# Сохраняем CatBoost (модель по приоритету)\n",
        "best_catboost_model = best_pri_model\n",
        "best_catboost_model.save_model('catboost_priority.cbm')\n"
      ],
      "metadata": {
        "id": "ASkpPrHbf544"
      },
      "id": "ASkpPrHbf544",
      "execution_count": 15,
      "outputs": []
    }
  ],
  "metadata": {
    "colab": {
      "provenance": []
    },
    "language_info": {
      "name": "python"
    },
    "kernelspec": {
      "name": "python3",
      "display_name": "Python 3"
    }
  },
  "nbformat": 4,
  "nbformat_minor": 5
}